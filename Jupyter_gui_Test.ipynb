{
 "cells": [
  {
   "cell_type": "code",
   "execution_count": 1,
   "id": "0b8badcc-0772-4375-b92d-6f6c98501ef9",
   "metadata": {},
   "outputs": [],
   "source": [
    "import os\n",
    "import sys\n",
    "\n",
    "# Add MOVEMENT to the Python path\n",
    "sys.path.append(os.path.abspath(\"../\"))"
   ]
  },
  {
   "cell_type": "code",
   "execution_count": 2,
   "id": "e060be8f-6f92-405f-998d-a1b41ea19ea7",
   "metadata": {},
   "outputs": [
    {
     "name": "stderr",
     "output_type": "stream",
     "text": [
      "Downloading data from 'https://gin.g-node.org/neuroinformatics/movement-test-data/raw/master/metadata.yaml' to file 'C:\\Users\\Tuff\\.movement\\data\\temp_metadata.yaml'.\n",
      "SHA256 hash of downloaded file: 40a6d79722dcaf7cee39627959e46a1bc10a6e1405842a7c2993d6d69b4c8195\n",
      "Use this value as the 'known_hash' argument of 'pooch.retrieve' to ensure that the file hasn't changed if it is downloaded again in the future.\n"
     ]
    }
   ],
   "source": [
    "from movement.notebook_gui.pose_viewer import create_viewer"
   ]
  },
  {
   "cell_type": "code",
   "execution_count": 3,
   "id": "8c856317-18cd-4c7a-b99e-f8d367cad8ff",
   "metadata": {},
   "outputs": [
    {
     "name": "stderr",
     "output_type": "stream",
     "text": [
      "\u001b[32m2025-04-04 18:12:09.041\u001b[0m | \u001b[33m\u001b[1mWARNING \u001b[0m | \u001b[36mmovement.io.load_poses\u001b[0m:\u001b[36m_ds_from_sleap_labels_file\u001b[0m:\u001b[36m511\u001b[0m - \u001b[33m\u001b[1mCould not find SLEAP Track in C:\\Users\\Tuff\\.movement\\data\\poses\\SLEAP_single-mouse_EPM.predictions.slp. Assuming single-individual dataset and assigning default individual name.\u001b[0m\n",
      "\u001b[32m2025-04-04 18:12:09.041\u001b[0m | \u001b[33m\u001b[1mWARNING \u001b[0m | \u001b[36mmovement.validators.datasets\u001b[0m:\u001b[36m__attrs_post_init__\u001b[0m:\u001b[36m222\u001b[0m - \u001b[33m\u001b[1mIndividual names were not provided. Setting to ['individual_0'].\u001b[0m\n",
      "\u001b[32m2025-04-04 18:12:10.490\u001b[0m | \u001b[31m\u001b[1mERROR   \u001b[0m | \u001b[36mmovement.utils.logging\u001b[0m:\u001b[36m_log_and_return_exception\u001b[0m:\u001b[36m61\u001b[0m - \u001b[31m\u001b[1mFailed to open video: 'MovementPoseViewer' object has no attribute 'frame_slider'\u001b[0m\n"
     ]
    },
    {
     "data": {
      "application/vnd.jupyter.widget-view+json": {
       "model_id": "0d879274b01f493dab1c52a675e2e290",
       "version_major": 2,
       "version_minor": 0
      },
      "text/plain": [
       "VBox(children=(VBox(children=(HBox(children=(Play(value=0, description='Play', interval=33, max=18484), IntSli…"
      ]
     },
     "metadata": {},
     "output_type": "display_data"
    }
   ],
   "source": [
    "viewer = create_viewer()"
   ]
  },
  {
   "cell_type": "code",
   "execution_count": null,
   "id": "fbba8bab-2d47-4799-918d-616a6ad3ba0d",
   "metadata": {},
   "outputs": [],
   "source": []
  }
 ],
 "metadata": {
  "kernelspec": {
   "display_name": "Python 3 (ipykernel)",
   "language": "python",
   "name": "python3"
  },
  "language_info": {
   "codemirror_mode": {
    "name": "ipython",
    "version": 3
   },
   "file_extension": ".py",
   "mimetype": "text/x-python",
   "name": "python",
   "nbconvert_exporter": "python",
   "pygments_lexer": "ipython3",
   "version": "3.11.11"
  }
 },
 "nbformat": 4,
 "nbformat_minor": 5
}
